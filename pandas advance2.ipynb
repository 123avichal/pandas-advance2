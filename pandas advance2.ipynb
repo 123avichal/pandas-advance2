{
 "cells": [
  {
   "cell_type": "code",
   "execution_count": 163,
   "id": "ed52c30b-1d98-428e-8e4c-8d285f3959fb",
   "metadata": {},
   "outputs": [],
   "source": [
    "import pandas as pd\n"
   ]
  },
  {
   "cell_type": "markdown",
   "id": "fbcbde45-b45f-4736-a59d-477b643cab77",
   "metadata": {},
   "source": [
    "Consider following code to answer further questions:\n",
    "import pandas as pd\n",
    "course_name = [‘Data Science’, ‘Machine Learning’, ‘Big Data’, ‘Data Engineer’]\n",
    "duration = [2,3,6,4]\n",
    "df = pd.DataFrame(data = {‘course_name’ : course_name, ‘duration’ : duration})"
   ]
  },
  {
   "cell_type": "markdown",
   "id": "e9f68522-e43d-4998-9184-61d0b0463eba",
   "metadata": {},
   "source": [
    "Q1. Write a code to print the data present in the second row of the dataframe, df."
   ]
  },
  {
   "cell_type": "code",
   "execution_count": 164,
   "id": "a5c96b9d-9bf6-495d-b882-bfb7b73bb572",
   "metadata": {},
   "outputs": [],
   "source": [
    "df=pd.DataFrame({'course_name':['Data Science', 'Machine Learning', 'Big Data', 'Data Engineer'],\n",
    "                 'duration':[2,3,6,4]\n",
    "})"
   ]
  },
  {
   "cell_type": "code",
   "execution_count": 165,
   "id": "8fedae2e-308f-483b-a295-8049242976dc",
   "metadata": {},
   "outputs": [
    {
     "data": {
      "text/plain": [
       "course_name    Big Data\n",
       "duration              6\n",
       "Name: 2, dtype: object"
      ]
     },
     "execution_count": 165,
     "metadata": {},
     "output_type": "execute_result"
    }
   ],
   "source": [
    "df.iloc[2]\n"
   ]
  },
  {
   "cell_type": "markdown",
   "id": "e6bcf940-f9ee-45b8-b20e-98c7d3c6c8aa",
   "metadata": {},
   "source": [
    "Q3. Reindex the given dataframe using a variable, reindex = [3,0,1,2] and store it in the variable, new_df\n",
    "then find the output for both new_df.loc[2] and new_df.iloc[2].\n",
    "Did you observe any difference in both the outputs? If so then explain it."
   ]
  },
  {
   "cell_type": "code",
   "execution_count": 166,
   "id": "d569c8bd-7706-4f61-ac9b-cc3f723e9441",
   "metadata": {},
   "outputs": [],
   "source": [
    "df1=df.reindex([3,0,1,2])"
   ]
  },
  {
   "cell_type": "code",
   "execution_count": 167,
   "id": "4f6f186e-bd47-4cad-ba81-926317f72755",
   "metadata": {},
   "outputs": [
    {
     "data": {
      "text/html": [
       "<div>\n",
       "<style scoped>\n",
       "    .dataframe tbody tr th:only-of-type {\n",
       "        vertical-align: middle;\n",
       "    }\n",
       "\n",
       "    .dataframe tbody tr th {\n",
       "        vertical-align: top;\n",
       "    }\n",
       "\n",
       "    .dataframe thead th {\n",
       "        text-align: right;\n",
       "    }\n",
       "</style>\n",
       "<table border=\"1\" class=\"dataframe\">\n",
       "  <thead>\n",
       "    <tr style=\"text-align: right;\">\n",
       "      <th></th>\n",
       "      <th>course_name</th>\n",
       "      <th>duration</th>\n",
       "    </tr>\n",
       "  </thead>\n",
       "  <tbody>\n",
       "    <tr>\n",
       "      <th>3</th>\n",
       "      <td>Data Engineer</td>\n",
       "      <td>4</td>\n",
       "    </tr>\n",
       "    <tr>\n",
       "      <th>0</th>\n",
       "      <td>Data Science</td>\n",
       "      <td>2</td>\n",
       "    </tr>\n",
       "    <tr>\n",
       "      <th>1</th>\n",
       "      <td>Machine Learning</td>\n",
       "      <td>3</td>\n",
       "    </tr>\n",
       "    <tr>\n",
       "      <th>2</th>\n",
       "      <td>Big Data</td>\n",
       "      <td>6</td>\n",
       "    </tr>\n",
       "  </tbody>\n",
       "</table>\n",
       "</div>"
      ],
      "text/plain": [
       "        course_name  duration\n",
       "3     Data Engineer         4\n",
       "0      Data Science         2\n",
       "1  Machine Learning         3\n",
       "2          Big Data         6"
      ]
     },
     "execution_count": 167,
     "metadata": {},
     "output_type": "execute_result"
    }
   ],
   "source": [
    "df1"
   ]
  },
  {
   "cell_type": "code",
   "execution_count": 168,
   "id": "d62e91bf-b2c4-42aa-b060-6b3d0163aeb9",
   "metadata": {},
   "outputs": [
    {
     "data": {
      "text/plain": [
       "course_name    Machine Learning\n",
       "duration                      3\n",
       "Name: 1, dtype: object"
      ]
     },
     "execution_count": 168,
     "metadata": {},
     "output_type": "execute_result"
    }
   ],
   "source": [
    "df1.iloc[2]"
   ]
  },
  {
   "cell_type": "code",
   "execution_count": 169,
   "id": "e58f5981-2513-46c9-b877-0a6c4eb44c3b",
   "metadata": {},
   "outputs": [
    {
     "data": {
      "text/plain": [
       "course_name    Big Data\n",
       "duration              6\n",
       "Name: 2, dtype: object"
      ]
     },
     "execution_count": 169,
     "metadata": {},
     "output_type": "execute_result"
    }
   ],
   "source": [
    "df.iloc[2]"
   ]
  },
  {
   "cell_type": "markdown",
   "id": "6c488f1b-5b0a-40e4-b035-28d4db6a780c",
   "metadata": {},
   "source": [
    "based on the observation it concluded that iloc function show diff output in both the applied casses . this function not print out sequence of indexing rather gives the output based on the input indexing, random indexing"
   ]
  },
  {
   "cell_type": "markdown",
   "id": "de5c336b-d311-4d59-848c-b4ee268b0319",
   "metadata": {},
   "source": [
    "Consider the below code to answer further questions:\n",
    "import pandas as pd\n",
    "import numpy as np\n",
    "columns = ['column_1', 'column_2', 'column_3', 'column_4', 'column_5', 'column_6']\n",
    "indices = [1,2,3,4,5,6]\n",
    "#Creating a dataframe:\n",
    "df1 = pd.DataFrame(np.random.rand(6,6), columns = columns, index = indices)"
   ]
  },
  {
   "cell_type": "markdown",
   "id": "54caa836-ae3a-45b6-8b2a-4b9e3d333a5a",
   "metadata": {},
   "source": [
    "Q4. Write a code to find the following statistical measurements for the above dataframe df1:\n",
    "(i) mean of each and every column present in the dataframe.\n",
    "(ii) standard deviation of column, ‘column_2’"
   ]
  },
  {
   "cell_type": "code",
   "execution_count": 170,
   "id": "b062ed99-9aee-4ce6-8c0e-14a64dc4955a",
   "metadata": {},
   "outputs": [],
   "source": [
    "import pandas as pd\n",
    "import numpy as np\n",
    "columns = ['column_1', 'column_2', 'column_3', 'column_4', 'column_5', 'column_6']\n",
    "indices = [1,2,3,4,5,6]\n",
    "#Creating a dataframe:\n",
    "df1 = pd.DataFrame(np.random.rand(6,6), columns = columns, index = indices)"
   ]
  },
  {
   "cell_type": "code",
   "execution_count": 171,
   "id": "759bf379-6c87-4fd1-8ced-0859e7256fb6",
   "metadata": {},
   "outputs": [
    {
     "data": {
      "text/html": [
       "<div>\n",
       "<style scoped>\n",
       "    .dataframe tbody tr th:only-of-type {\n",
       "        vertical-align: middle;\n",
       "    }\n",
       "\n",
       "    .dataframe tbody tr th {\n",
       "        vertical-align: top;\n",
       "    }\n",
       "\n",
       "    .dataframe thead th {\n",
       "        text-align: right;\n",
       "    }\n",
       "</style>\n",
       "<table border=\"1\" class=\"dataframe\">\n",
       "  <thead>\n",
       "    <tr style=\"text-align: right;\">\n",
       "      <th></th>\n",
       "      <th>column_1</th>\n",
       "      <th>column_2</th>\n",
       "      <th>column_3</th>\n",
       "      <th>column_4</th>\n",
       "      <th>column_5</th>\n",
       "      <th>column_6</th>\n",
       "    </tr>\n",
       "  </thead>\n",
       "  <tbody>\n",
       "    <tr>\n",
       "      <th>1</th>\n",
       "      <td>0.699123</td>\n",
       "      <td>0.096218</td>\n",
       "      <td>0.196115</td>\n",
       "      <td>0.293520</td>\n",
       "      <td>0.571899</td>\n",
       "      <td>0.082265</td>\n",
       "    </tr>\n",
       "    <tr>\n",
       "      <th>2</th>\n",
       "      <td>0.541336</td>\n",
       "      <td>0.286794</td>\n",
       "      <td>0.484322</td>\n",
       "      <td>0.206595</td>\n",
       "      <td>0.561951</td>\n",
       "      <td>0.978774</td>\n",
       "    </tr>\n",
       "    <tr>\n",
       "      <th>3</th>\n",
       "      <td>0.875823</td>\n",
       "      <td>0.484407</td>\n",
       "      <td>0.905220</td>\n",
       "      <td>0.101818</td>\n",
       "      <td>0.911654</td>\n",
       "      <td>0.732464</td>\n",
       "    </tr>\n",
       "    <tr>\n",
       "      <th>4</th>\n",
       "      <td>0.228744</td>\n",
       "      <td>0.927298</td>\n",
       "      <td>0.620371</td>\n",
       "      <td>0.776053</td>\n",
       "      <td>0.458078</td>\n",
       "      <td>0.996458</td>\n",
       "    </tr>\n",
       "    <tr>\n",
       "      <th>5</th>\n",
       "      <td>0.225649</td>\n",
       "      <td>0.799607</td>\n",
       "      <td>0.020030</td>\n",
       "      <td>0.295492</td>\n",
       "      <td>0.574256</td>\n",
       "      <td>0.741202</td>\n",
       "    </tr>\n",
       "    <tr>\n",
       "      <th>6</th>\n",
       "      <td>0.480223</td>\n",
       "      <td>0.597880</td>\n",
       "      <td>0.377547</td>\n",
       "      <td>0.202358</td>\n",
       "      <td>0.110117</td>\n",
       "      <td>0.444344</td>\n",
       "    </tr>\n",
       "  </tbody>\n",
       "</table>\n",
       "</div>"
      ],
      "text/plain": [
       "   column_1  column_2  column_3  column_4  column_5  column_6\n",
       "1  0.699123  0.096218  0.196115  0.293520  0.571899  0.082265\n",
       "2  0.541336  0.286794  0.484322  0.206595  0.561951  0.978774\n",
       "3  0.875823  0.484407  0.905220  0.101818  0.911654  0.732464\n",
       "4  0.228744  0.927298  0.620371  0.776053  0.458078  0.996458\n",
       "5  0.225649  0.799607  0.020030  0.295492  0.574256  0.741202\n",
       "6  0.480223  0.597880  0.377547  0.202358  0.110117  0.444344"
      ]
     },
     "execution_count": 171,
     "metadata": {},
     "output_type": "execute_result"
    }
   ],
   "source": [
    "df1"
   ]
  },
  {
   "cell_type": "code",
   "execution_count": 172,
   "id": "54d2f686-1e36-443f-813b-3a393b0478e4",
   "metadata": {},
   "outputs": [
    {
     "data": {
      "text/plain": [
       "1    0.323190\n",
       "2    0.509962\n",
       "3    0.668564\n",
       "4    0.667834\n",
       "5    0.442706\n",
       "6    0.368745\n",
       "dtype: float64"
      ]
     },
     "execution_count": 172,
     "metadata": {},
     "output_type": "execute_result"
    }
   ],
   "source": [
    "df1.mean(axis=1)"
   ]
  },
  {
   "cell_type": "code",
   "execution_count": 173,
   "id": "c0836384-a685-41c6-9f59-eef150ddb2b3",
   "metadata": {},
   "outputs": [
    {
     "data": {
      "text/plain": [
       "0.3112911991447482"
      ]
     },
     "execution_count": 173,
     "metadata": {},
     "output_type": "execute_result"
    }
   ],
   "source": [
    "df1['column_2'].std()"
   ]
  },
  {
   "cell_type": "markdown",
   "id": "5fb77dc7-6437-43be-b258-7fc77ceeb355",
   "metadata": {},
   "source": [
    "Q7. Write a code to print only the current month and year at the time of answering this question.\n",
    "[Hint: Use pandas.datetime function]"
   ]
  },
  {
   "cell_type": "code",
   "execution_count": 174,
   "id": "f32995b6-6ee6-43a7-800b-4d9a37cca29d",
   "metadata": {},
   "outputs": [
    {
     "name": "stdout",
     "output_type": "stream",
     "text": [
      "year: 2023\n",
      "month: 8\n"
     ]
    }
   ],
   "source": [
    "import datetime\n",
    "from datetime import date\n",
    "today=date.today()\n",
    "print('year:',today.year)\n",
    "print('month:',today.month)"
   ]
  },
  {
   "cell_type": "markdown",
   "id": "197a50e6-e33a-46a9-a067-93774dba479f",
   "metadata": {},
   "source": [
    "Q8. Write a Python program that takes in two dates as input (in the format YYYY-MM-DD) and\n",
    "calculates the difference between them in days, hours, and minutes using Pandas time delta. The\n",
    "program should prompt the user to enter the dates and display the result."
   ]
  },
  {
   "cell_type": "code",
   "execution_count": 197,
   "id": "6e3c7a3d-eaa0-48ac-b722-701f6e940400",
   "metadata": {},
   "outputs": [
    {
     "data": {
      "text/plain": [
       "DatetimeIndex(['1998-05-10 19:55:00', '1998-05-11 19:55:00',\n",
       "               '1998-05-12 19:55:00'],\n",
       "              dtype='datetime64[ns]', freq='D')"
      ]
     },
     "execution_count": 197,
     "metadata": {},
     "output_type": "execute_result"
    }
   ],
   "source": [
    "date=pd.date_range(start='1998-05-13',end='1998-05-15')\n",
    "d2=pd.Timedelta(days=2,hours=4,minutes=5)\n",
    "date-d2"
   ]
  },
  {
   "cell_type": "markdown",
   "id": "467b1164-65e2-4017-9270-8a00ad5bea9f",
   "metadata": {},
   "source": [
    "Q9. Write a Python program that reads a CSV file containing categorical data and converts a specified\n",
    "column to a categorical data type. The program should prompt the user to enter the file path, column\n",
    "name, and category order, and then display the sorted data."
   ]
  },
  {
   "cell_type": "code",
   "execution_count": 176,
   "id": "30512c44-65cf-4c33-97d8-2714799470d0",
   "metadata": {},
   "outputs": [],
   "source": [
    "import csv\n",
    "with open('file67.csv','w') as f:\n",
    "    writer=csv.writer(f)\n",
    "    for i in file:\n",
    "        writer.writerow(i)\n",
    "    \n",
    "    \n",
    "file=[['a','b','c','d','e','f'],\n",
    "      [2,3,4,5,6,7],\n",
    "      [3,454,3,6,6,2],\n",
    "      [3,2,2,4,2,23]\n",
    "]    \n",
    "    \n"
   ]
  },
  {
   "cell_type": "code",
   "execution_count": 177,
   "id": "03e8002e-6dde-454e-9088-ac4e32bb5ef9",
   "metadata": {},
   "outputs": [],
   "source": [
    "df=pd.read_csv('file67.csv')"
   ]
  },
  {
   "cell_type": "code",
   "execution_count": 178,
   "id": "e659335d-0c1a-4aab-8c06-71c2ecae3d09",
   "metadata": {},
   "outputs": [
    {
     "data": {
      "text/plain": [
       "Index(['a', 'b', 'c', 'd', 'e', 'f'], dtype='object')"
      ]
     },
     "execution_count": 178,
     "metadata": {},
     "output_type": "execute_result"
    }
   ],
   "source": [
    "df.columns"
   ]
  },
  {
   "cell_type": "code",
   "execution_count": 179,
   "id": "1dbb7377-50fc-44d7-8a94-c1a9ede3f18b",
   "metadata": {},
   "outputs": [],
   "source": [
    "df2=pd.Categorical(df['b'])"
   ]
  },
  {
   "cell_type": "code",
   "execution_count": 180,
   "id": "b2e9b5cb-d496-42d4-91a7-3823f62a71a7",
   "metadata": {},
   "outputs": [
    {
     "data": {
      "text/plain": [
       "pandas.core.frame.DataFrame"
      ]
     },
     "execution_count": 180,
     "metadata": {},
     "output_type": "execute_result"
    }
   ],
   "source": [
    "type(df)"
   ]
  },
  {
   "cell_type": "code",
   "execution_count": 181,
   "id": "19c7cb1c-49ba-4f0b-95da-f053cbd1e69f",
   "metadata": {},
   "outputs": [
    {
     "data": {
      "text/plain": [
       "pandas.core.arrays.categorical.Categorical"
      ]
     },
     "execution_count": 181,
     "metadata": {},
     "output_type": "execute_result"
    }
   ],
   "source": [
    "type(df2)"
   ]
  },
  {
   "cell_type": "markdown",
   "id": "94e6ca0d-755e-4203-b6bc-0308c0954c8d",
   "metadata": {},
   "source": [
    "Q10. Write a Python program that reads a CSV file containing sales data for different products and\n",
    "visualizes the data using a stacked bar chart to show the sales of each product category over time. The\n",
    "program should prompt the user to enter the file path and display the chart."
   ]
  },
  {
   "cell_type": "code",
   "execution_count": 182,
   "id": "baded26c-3eba-413e-bbd9-5faf1d276f54",
   "metadata": {},
   "outputs": [],
   "source": [
    "import csv\n",
    "with open('90.csv','w') as f:\n",
    "    writer=csv.writer(f)\n",
    "    for i in file2:\n",
    "        writer.writerow(i)\n",
    "file2=[['apple','mango','banana','oranges'],\n",
    "       [45,67,89,80],\n",
    "      ]"
   ]
  },
  {
   "cell_type": "code",
   "execution_count": 183,
   "id": "7e3af621-2520-4cbf-8e20-60218a58f0c9",
   "metadata": {},
   "outputs": [],
   "source": [
    "df1=pd.read_csv('90.csv')"
   ]
  },
  {
   "cell_type": "code",
   "execution_count": 184,
   "id": "2c88718d-73d7-4d76-b75c-df43a40642b6",
   "metadata": {},
   "outputs": [
    {
     "data": {
      "text/plain": [
       "<AxesSubplot: >"
      ]
     },
     "execution_count": 184,
     "metadata": {},
     "output_type": "execute_result"
    },
    {
     "data": {
      "image/png": "[encoded data removed]",
      "text/plain": [
       "<Figure size 640x480 with 1 Axes>"
      ]
     },
     "metadata": {},
     "output_type": "display_data"
    }
   ],
   "source": [
    "df1.plot.bar()"
   ]
  },
  {
   "cell_type": "markdown",
   "id": "e32145e2-d158-437c-92bd-0bc8f503b72f",
   "metadata": {},
   "source": [
    "Q11. You are given a CSV file containing student data that includes the student ID and their test score. Write\n",
    "a Python program that reads the CSV file, calculates the mean, median, and mode of the test scores, and\n",
    "displays the results in a table.\n",
    "The program should do the followingM\n",
    "I Prompt the user to enter the file path of the CSV file containing the student dataR\n",
    "I Read the CSV file into a Pandas DataFrameR\n",
    "I Calculate the mean, median, and mode of the test scores using Pandas toolsR\n",
    "I Display the mean, median, and mode in a table.\n",
    "Assume the CSV file contains the following columnsM\n",
    "I Student ID: The ID of the studentR\n",
    "I Test Score: The score of the student's test.\n",
    "Example usage of the program:\n",
    "Enter the file path of the CSV file containing the student data: student_data.csv\n",
    "+-----------+--------+\n",
    "| Statistic | Value |\n",
    "+-----------+--------+\n",
    "| Mean | 79.6 |\n",
    "| Median | 82 |\n",
    "| Mode | 85, 90 |\n",
    "+-----------+--------+\n",
    "Assume that the CSV file student_data.csv contains the following data:\n",
    "Student ID,Test Score\n",
    "1,85\n",
    "2,90\n",
    "3,80\n",
    "4,75\n",
    "5,85\n",
    "6,82\n",
    "7,78\n",
    "8,85\n",
    "9,90\n",
    "10,85\n",
    "The program should calculate the mean, median, and mode of the test scores and display the results\n",
    "in a table."
   ]
  },
  {
   "cell_type": "code",
   "execution_count": 185,
   "id": "e703e14f-ac78-4329-9368-72ca609b82ac",
   "metadata": {},
   "outputs": [],
   "source": [
    "import csv\n",
    "file2=[['studentid','test_score'],\n",
    "      [1454,89],\n",
    "      [1236,78],\n",
    "      [7865,76],\n",
    "      [643,67]]\n",
    "with open('student.csv','w') as f:\n",
    "    writer=csv.writer(f)\n",
    "    for i in file2:\n",
    "        writer.writerow(i)"
   ]
  },
  {
   "cell_type": "code",
   "execution_count": 186,
   "id": "f8b1abbe-6ed2-4499-be63-6ced2b58e1e3",
   "metadata": {},
   "outputs": [],
   "source": [
    "df=pd.read_csv('student.csv')"
   ]
  },
  {
   "cell_type": "code",
   "execution_count": 187,
   "id": "42ceeb64-72b4-46c9-97c3-59f1b8617cad",
   "metadata": {},
   "outputs": [
    {
     "data": {
      "text/html": [
       "<div>\n",
       "<style scoped>\n",
       "    .dataframe tbody tr th:only-of-type {\n",
       "        vertical-align: middle;\n",
       "    }\n",
       "\n",
       "    .dataframe tbody tr th {\n",
       "        vertical-align: top;\n",
       "    }\n",
       "\n",
       "    .dataframe thead th {\n",
       "        text-align: right;\n",
       "    }\n",
       "</style>\n",
       "<table border=\"1\" class=\"dataframe\">\n",
       "  <thead>\n",
       "    <tr style=\"text-align: right;\">\n",
       "      <th></th>\n",
       "      <th>studentid</th>\n",
       "      <th>test_score</th>\n",
       "    </tr>\n",
       "  </thead>\n",
       "  <tbody>\n",
       "    <tr>\n",
       "      <th>0</th>\n",
       "      <td>1454</td>\n",
       "      <td>89</td>\n",
       "    </tr>\n",
       "    <tr>\n",
       "      <th>1</th>\n",
       "      <td>1236</td>\n",
       "      <td>78</td>\n",
       "    </tr>\n",
       "    <tr>\n",
       "      <th>2</th>\n",
       "      <td>7865</td>\n",
       "      <td>76</td>\n",
       "    </tr>\n",
       "    <tr>\n",
       "      <th>3</th>\n",
       "      <td>643</td>\n",
       "      <td>67</td>\n",
       "    </tr>\n",
       "  </tbody>\n",
       "</table>\n",
       "</div>"
      ],
      "text/plain": [
       "   studentid  test_score\n",
       "0       1454          89\n",
       "1       1236          78\n",
       "2       7865          76\n",
       "3        643          67"
      ]
     },
     "execution_count": 187,
     "metadata": {},
     "output_type": "execute_result"
    }
   ],
   "source": [
    "df"
   ]
  },
  {
   "cell_type": "code",
   "execution_count": 188,
   "id": "3f3059ce-1678-408a-b263-186a434edc8b",
   "metadata": {},
   "outputs": [],
   "source": [
    "a=df['test_score'].mean()\n",
    "a1=pd.Series(a)"
   ]
  },
  {
   "cell_type": "code",
   "execution_count": 189,
   "id": "0b991569-4db2-4e9b-8295-7adf45263a08",
   "metadata": {},
   "outputs": [],
   "source": [
    "b=df['test_score'].median()\n",
    "a2=pd.Series(b)"
   ]
  },
  {
   "cell_type": "code",
   "execution_count": 190,
   "id": "3a87e64e-635b-41f6-baed-7196ef947726",
   "metadata": {},
   "outputs": [],
   "source": [
    "c=df['test_score'].mode()\n",
    "a3=pd.Series(c)"
   ]
  },
  {
   "cell_type": "code",
   "execution_count": 191,
   "id": "2806e591-3e17-4e93-973a-f318005075d3",
   "metadata": {},
   "outputs": [
    {
     "data": {
      "text/plain": [
       "0    77.5\n",
       "0    77.0\n",
       "0    67.0\n",
       "1    76.0\n",
       "2    78.0\n",
       "3    89.0\n",
       "dtype: float64"
      ]
     },
     "execution_count": 191,
     "metadata": {},
     "output_type": "execute_result"
    }
   ],
   "source": [
    "pd.concat([a1,a2,a3])"
   ]
  },
  {
   "cell_type": "markdown",
   "id": "f2114b66-b9d8-4e57-84db-5abe60391699",
   "metadata": {},
   "source": [
    "Q2. What is the difference between the functions loc and iloc in pandas.DataFrame?"
   ]
  },
  {
   "cell_type": "markdown",
   "id": "d8e34a8a-6d10-4104-8d91-58ac66f969c8",
   "metadata": {},
   "source": [
    "The loc() function is label based data selecting method which means that we have to pass the name of the row or column which we want to select. This method includes the last element of the range passed in it, unlike iloc(). loc() can accept the boolean data unlike iloc()\n",
    "\n",
    "\n",
    "The iloc() function is an indexed-based selecting method which means that we have to pass an integer index in the method to select a specific row/column. This method does not include the last element of the range passed in it unlike loc(). iloc() does not accept the boolean data unlike loc(). "
   ]
  },
  {
   "cell_type": "markdown",
   "id": "0c0b993a-0ff6-4f00-adf2-bb70a3c70530",
   "metadata": {},
   "source": [
    "Q5. Replace the data present in the second row of column, ‘column_2’ by a string variable then find the mean of column, column_2. If you are getting errors in executing it then explain why. [Hint: To replace the data use df1.loc[] and equate this to string data of your choice.]"
   ]
  },
  {
   "cell_type": "code",
   "execution_count": 192,
   "id": "b780c292-2697-4f0e-b11f-cdefeeca2152",
   "metadata": {},
   "outputs": [],
   "source": [
    "import pandas as pd\n",
    "import numpy as np\n",
    "columns = ['column_1', 'column_2', 'column_3', 'column_4', 'column_5', 'column_6']\n",
    "indices = [1,2,3,4,5,6]\n",
    "#Creating a dataframe:\n",
    "df1 = pd.DataFrame(np.random.rand(6,6), columns = columns, index = indices)"
   ]
  },
  {
   "cell_type": "code",
   "execution_count": 193,
   "id": "a1ffc50d-11ea-4ee5-ba53-de7bffe0cba6",
   "metadata": {},
   "outputs": [
    {
     "data": {
      "text/html": [
       "<div>\n",
       "<style scoped>\n",
       "    .dataframe tbody tr th:only-of-type {\n",
       "        vertical-align: middle;\n",
       "    }\n",
       "\n",
       "    .dataframe tbody tr th {\n",
       "        vertical-align: top;\n",
       "    }\n",
       "\n",
       "    .dataframe thead th {\n",
       "        text-align: right;\n",
       "    }\n",
       "</style>\n",
       "<table border=\"1\" class=\"dataframe\">\n",
       "  <thead>\n",
       "    <tr style=\"text-align: right;\">\n",
       "      <th></th>\n",
       "      <th>column_1</th>\n",
       "      <th>column_2</th>\n",
       "      <th>column_3</th>\n",
       "      <th>column_4</th>\n",
       "      <th>column_5</th>\n",
       "      <th>column_6</th>\n",
       "    </tr>\n",
       "  </thead>\n",
       "  <tbody>\n",
       "    <tr>\n",
       "      <th>1</th>\n",
       "      <td>0.536701</td>\n",
       "      <td>0.939109</td>\n",
       "      <td>0.977621</td>\n",
       "      <td>0.263942</td>\n",
       "      <td>0.355724</td>\n",
       "      <td>0.809452</td>\n",
       "    </tr>\n",
       "    <tr>\n",
       "      <th>2</th>\n",
       "      <td>0.743586</td>\n",
       "      <td>0.457687</td>\n",
       "      <td>0.370726</td>\n",
       "      <td>0.175601</td>\n",
       "      <td>0.784134</td>\n",
       "      <td>0.885345</td>\n",
       "    </tr>\n",
       "    <tr>\n",
       "      <th>3</th>\n",
       "      <td>0.660316</td>\n",
       "      <td>0.208839</td>\n",
       "      <td>0.877696</td>\n",
       "      <td>0.576330</td>\n",
       "      <td>0.449731</td>\n",
       "      <td>0.682885</td>\n",
       "    </tr>\n",
       "    <tr>\n",
       "      <th>4</th>\n",
       "      <td>0.859096</td>\n",
       "      <td>0.713652</td>\n",
       "      <td>0.561749</td>\n",
       "      <td>0.996299</td>\n",
       "      <td>0.610294</td>\n",
       "      <td>0.277595</td>\n",
       "    </tr>\n",
       "    <tr>\n",
       "      <th>5</th>\n",
       "      <td>0.771847</td>\n",
       "      <td>0.704481</td>\n",
       "      <td>0.738937</td>\n",
       "      <td>0.596452</td>\n",
       "      <td>0.757177</td>\n",
       "      <td>0.547266</td>\n",
       "    </tr>\n",
       "    <tr>\n",
       "      <th>6</th>\n",
       "      <td>0.383306</td>\n",
       "      <td>0.502445</td>\n",
       "      <td>0.476222</td>\n",
       "      <td>0.528800</td>\n",
       "      <td>0.614943</td>\n",
       "      <td>0.412072</td>\n",
       "    </tr>\n",
       "  </tbody>\n",
       "</table>\n",
       "</div>"
      ],
      "text/plain": [
       "   column_1  column_2  column_3  column_4  column_5  column_6\n",
       "1  0.536701  0.939109  0.977621  0.263942  0.355724  0.809452\n",
       "2  0.743586  0.457687  0.370726  0.175601  0.784134  0.885345\n",
       "3  0.660316  0.208839  0.877696  0.576330  0.449731  0.682885\n",
       "4  0.859096  0.713652  0.561749  0.996299  0.610294  0.277595\n",
       "5  0.771847  0.704481  0.738937  0.596452  0.757177  0.547266\n",
       "6  0.383306  0.502445  0.476222  0.528800  0.614943  0.412072"
      ]
     },
     "execution_count": 193,
     "metadata": {},
     "output_type": "execute_result"
    }
   ],
   "source": [
    "df1"
   ]
  },
  {
   "cell_type": "code",
   "execution_count": 194,
   "id": "3adfe3d3-1842-4375-9b7d-c7dbf48f08a1",
   "metadata": {},
   "outputs": [],
   "source": [
    "df2=df1[['column_1','column_2']].loc[2]"
   ]
  },
  {
   "cell_type": "code",
   "execution_count": 195,
   "id": "5ba9a646-558a-4500-aed6-e5c501b73c65",
   "metadata": {},
   "outputs": [
    {
     "data": {
      "text/plain": [
       "column_1    0.743586\n",
       "column_2    0.457687\n",
       "Name: 2, dtype: float64"
      ]
     },
     "execution_count": 195,
     "metadata": {},
     "output_type": "execute_result"
    }
   ],
   "source": [
    "df2"
   ]
  },
  {
   "cell_type": "code",
   "execution_count": 196,
   "id": "fb8897cb-327d-4f88-87a9-008c7c26dc8c",
   "metadata": {},
   "outputs": [
    {
     "data": {
      "text/plain": [
       "0.6006363108292555"
      ]
     },
     "execution_count": 196,
     "metadata": {},
     "output_type": "execute_result"
    }
   ],
   "source": [
    "df2.mean()"
   ]
  },
  {
   "cell_type": "markdown",
   "id": "981204f6-5ee1-4607-9aaf-b91ec5a876aa",
   "metadata": {},
   "source": [
    "Q6. What do you understand about the windows function in pandas and list the types of windows\n",
    "functions?"
   ]
  },
  {
   "cell_type": "markdown",
   "id": "c66c932e-1319-440e-9122-f34d571ac49b",
   "metadata": {},
   "source": [
    "Pandas Window functions are functions where the input values are taken from a “window” of one or more rows in a series or a table and calculation is performed over them. The word window means the number of rows between the two boundaries by which we perform calculations including the boundary rows\n",
    "\n",
    "Rolling window\n",
    "Weighted window\n",
    "Expanding window\n",
    "Exponentially Weighted window-\n"
   ]
  },
  {
   "cell_type": "code",
   "execution_count": null,
   "id": "27a7188b-141d-4de0-85f7-4804e4e89091",
   "metadata": {},
   "outputs": [],
   "source": []
  },
  {
   "cell_type": "code",
   "execution_count": null,
   "id": "0368ec25-12e5-49ec-bbfc-ae157705f74f",
   "metadata": {},
   "outputs": [],
   "source": []
  }
 ],
 "metadata": {
  "kernelspec": {
   "display_name": "Python 3 (ipykernel)",
   "language": "python",
   "name": "python3"
  },
  "language_info": {
   "codemirror_mode": {
    "name": "ipython",
    "version": 3
   },
   "file_extension": ".py",
   "mimetype": "text/x-python",
   "name": "python",
   "nbconvert_exporter": "python",
   "pygments_lexer": "ipython3",
   "version": "3.10.8"
  }
 },
 "nbformat": 4,
 "nbformat_minor": 5
}
